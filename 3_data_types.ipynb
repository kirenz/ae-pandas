{
    "cells": [
        {
            "attachments": {},
            "cell_type": "markdown",
            "metadata": {},
            "source": [
                "**Wichtige Hinweise**\n",
                "\n",
                "- Aktivieren Sie die entsprechende Conda-Umgebung bevor Sie beginnen.\n",
                "\n",
                "- Geben Sie als `NAME` ihr HdM-Kürzel an.\n",
                "\n",
                "- Ändern Sie **nicht** den Namen der Datei und löschen Sie keine Zellen.\n",
                "\n",
                "- Bearbeiten Sie alle Zellen mit dem Hinweis <font color='green'> \\# YOUR CODE HERE </font> \n",
                "\n",
                "- Die Funktion **NotImplementedError()** soll die Abgabe von leeren Zellen verhindern. Löschen Sie die Funktion, sobald Sie in einer dieser Zellen arbeiten. \n",
                "\n",
                "- Stellen Sie sicher, dass alles wie erwartet läuft, bevor Sie die Prüfung abgeben: Starten Sie den Kernel neu und führen Sie alle Zellen aus: wählen Sie \"Restart\" und dann \"Run All\" "
            ]
        },
        {
            "cell_type": "code",
            "execution_count": null,
            "metadata": {},
            "outputs": [],
            "source": [
                "NAME = \"\""
            ]
        },
        {
            "cell_type": "code",
            "execution_count": null,
            "metadata": {},
            "outputs": [],
            "source": [
                "import IPython\n",
                "assert IPython.version_info[0] >= 3, \"Your version of IPython is too old, please update it.\""
            ]
        },
        {
            "cell_type": "markdown",
            "metadata": {},
            "source": [
                "---"
            ]
        },
        {
            "cell_type": "markdown",
            "metadata": {},
            "source": [
                "# Change data types and add columns"
            ]
        },
        {
            "cell_type": "markdown",
            "metadata": {},
            "source": [
                "## Import pandas"
            ]
        },
        {
            "cell_type": "code",
            "execution_count": null,
            "metadata": {},
            "outputs": [],
            "source": [
                "import pandas as pd"
            ]
        },
        {
            "cell_type": "markdown",
            "metadata": {},
            "source": [
                "## Import data"
            ]
        },
        {
            "cell_type": "code",
            "execution_count": null,
            "metadata": {},
            "outputs": [],
            "source": [
                "# URL of data\n",
                "URL = \"https://raw.githubusercontent.com/kirenz/datasets/master/height_clean.csv\"\n",
                "df = pd.read_csv(URL)"
            ]
        },
        {
            "cell_type": "code",
            "execution_count": null,
            "metadata": {},
            "outputs": [],
            "source": [
                "df.dtypes"
            ]
        },
        {
            "cell_type": "markdown",
            "metadata": {},
            "source": [
                "## Change data type\n",
                "\n",
                "- There are several methods to [change data types in pandas](https://pandas.pydata.org/docs/reference/api/pandas.DataFrame.astype.html):\n",
                "\n",
                "The most common method to change the data type is:\n",
                "\n",
                "- `.astype()`: Convert to a specific type (like \"int32\", \"float\" or \"catgeory\")\n",
                "- `.astype(str)`: Convert to string  \n",
                "  \n",
                "More options:  \n",
                "  \n",
                "- `to_datetime`: Convert argument to datetime.\n",
                "- `to_timedelta`: Convert argument to timedelta.\n",
                "- `to_numeric`: Convert argument to a numeric type.\n",
                "- `numpy.ndarray.astype`: Cast a numpy array to a specified type."
            ]
        },
        {
            "cell_type": "markdown",
            "metadata": {},
            "source": [
                "### Categorical data\n",
                "\n",
                "- Categoricals are a pandas data type corresponding to categorical variables in statistics. \n",
                "\n",
                "\n",
                "- A categorical variable takes on a limited, and usually fixed, number of possible values (categories). Examples are gender, social class, blood type, country affiliation, observation time or rating via Likert scales.\n",
                "\n",
                "\n",
                "- Convert variable \"gender\" to a category dtype:"
            ]
        },
        {
            "cell_type": "code",
            "execution_count": null,
            "metadata": {},
            "outputs": [],
            "source": [
                "df[\"gender\"] = df[\"gender\"].astype(\"category\")"
            ]
        },
        {
            "cell_type": "markdown",
            "metadata": {},
            "source": [
                "### String data\n",
                "\n",
                "- In our example, `id` is not a number (we can't perform calculations with it)\n",
                "- It is just a unique identifier so we should transform it to a simple string (object)"
            ]
        },
        {
            "cell_type": "markdown",
            "metadata": {},
            "source": [
                "Hint:\n",
                "\n",
                "```python\n",
                "df['___'] = df['___'].___(___)\n",
                "```\n"
            ]
        },
        {
            "cell_type": "code",
            "execution_count": null,
            "metadata": {
                "deletable": false,
                "nbgrader": {
                    "cell_type": "code",
                    "checksum": "7443ce18a50ac379feae1d134f3934cb",
                    "grade": false,
                    "grade_id": "id",
                    "locked": false,
                    "schema_version": 3,
                    "solution": true,
                    "task": false
                }
            },
            "outputs": [],
            "source": [
                "# YOUR CODE HERE\n",
                "raise NotImplementedError()"
            ]
        },
        {
            "cell_type": "code",
            "execution_count": null,
            "metadata": {
                "deletable": false,
                "editable": false,
                "nbgrader": {
                    "cell_type": "code",
                    "checksum": "9a91504a3562a5bfc3a310b9ea67a86e",
                    "grade": true,
                    "grade_id": "c_id",
                    "locked": true,
                    "points": 2,
                    "schema_version": 3,
                    "solution": false,
                    "task": false
                }
            },
            "outputs": [],
            "source": [
                "\"\"\"Check if your code returns the correct output\"\"\"\n",
                "assert df.select_dtypes(include=[\"number\"]).columns.to_list() == ['height', 'average_height_parents']\n",
                "assert df.select_dtypes(include=[\"object\"]).columns.to_list() == ['name', 'id']"
            ]
        },
        {
            "cell_type": "markdown",
            "metadata": {},
            "source": [
                "## Add new columns"
            ]
        },
        {
            "cell_type": "markdown",
            "metadata": {},
            "source": [
                "### Constant"
            ]
        },
        {
            "cell_type": "markdown",
            "metadata": {},
            "source": [
                "- Add a new variable called \"number\" to df \n",
                "- The new variable should have the number 42 in all rows\n"
            ]
        },
        {
            "cell_type": "markdown",
            "metadata": {},
            "source": [
                "Hint:\n",
                "  \n",
                "```python\n",
                "df[\"___\"] = ___\n",
                "```"
            ]
        },
        {
            "cell_type": "code",
            "execution_count": null,
            "metadata": {
                "deletable": false,
                "nbgrader": {
                    "cell_type": "code",
                    "checksum": "3ba2e4fd9417b73e552b09f74ed0416a",
                    "grade": false,
                    "grade_id": "add",
                    "locked": false,
                    "schema_version": 3,
                    "solution": true,
                    "task": false
                }
            },
            "outputs": [],
            "source": [
                "# YOUR CODE HERE\n",
                "raise NotImplementedError()"
            ]
        },
        {
            "cell_type": "code",
            "execution_count": null,
            "metadata": {
                "deletable": false,
                "editable": false,
                "nbgrader": {
                    "cell_type": "code",
                    "checksum": "3606895c7e71bce55a1cfc582d250b02",
                    "grade": true,
                    "grade_id": "c_add",
                    "locked": true,
                    "points": 2,
                    "schema_version": 3,
                    "solution": false,
                    "task": false
                }
            },
            "outputs": [],
            "source": [
                "\"\"\"Check if your code returns the correct output\"\"\"\n",
                "assert df.loc[[0], \"number\"].to_list() == [42]"
            ]
        },
        {
            "cell_type": "markdown",
            "metadata": {},
            "source": [
                "### From existing\n",
                "\n",
                " - Create new columns from existing columns"
            ]
        },
        {
            "cell_type": "code",
            "execution_count": null,
            "metadata": {},
            "outputs": [],
            "source": [
                "# we use numpy to add some data with a nornmal distribution \n",
                "import numpy as np\n",
                "\n",
                "# calculate height in m (from cm)\n",
                "df['height_m'] = df.height/100 \n",
                "\n",
                "# add 20 random normal distributed numbers with a mean of 45 and standard deviation of 5\n",
                "df['weight'] = round(np.random.normal(45, 5, 20) * df['height_m'],2)\n",
                "\n",
                "# calculate body mass index\n",
                "df['bmi'] = round(df.weight / (df.height_m * df.height_m),2)"
            ]
        },
        {
            "cell_type": "code",
            "execution_count": null,
            "metadata": {},
            "outputs": [],
            "source": [
                "df.head()"
            ]
        },
        {
            "cell_type": "code",
            "execution_count": null,
            "metadata": {},
            "outputs": [],
            "source": [
                "# we need datetime to add a date\n",
                "from datetime import datetime"
            ]
        },
        {
            "cell_type": "code",
            "execution_count": null,
            "metadata": {},
            "outputs": [],
            "source": [
                "df[\"date\"] = datetime.today().strftime('%Y-%m-%d')\n",
                "\n",
                "df.head(3)"
            ]
        }
    ],
    "metadata": {
        "interpreter": {
            "hash": "463226f144cc21b006ce6927bfc93dd00694e52c8bc6857abb6e555b983749e9"
        },
        "kernelspec": {
            "display_name": "Python 3 (ipykernel)",
            "language": "python",
            "name": "python3"
        },
        "language_info": {
            "codemirror_mode": {
                "name": "ipython",
                "version": 3
            },
            "file_extension": ".py",
            "mimetype": "text/x-python",
            "name": "python",
            "nbconvert_exporter": "python",
            "pygments_lexer": "ipython3",
            "version": "3.9.13"
        }
    },
    "nbformat": 4,
    "nbformat_minor": 2
}